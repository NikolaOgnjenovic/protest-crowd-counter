{
 "cells": [
  {
   "cell_type": "markdown",
   "id": "f2e367f7",
   "metadata": {},
   "source": [
    "# Automatsko procenjivanje broja učesnika protesta analizom slike\n",
    "\n",
    "Ovaj projekat se bavi detekcijom i brojanjem ljudi na slikama koristeći HOG, Haar i CNN (density map).\n",
    "HOG i Haar su istraženi kao opcije ali se ručnim testiranjem ispostavilo da nisu dovoljni za brojanje velike mase ljudi na slikama sa protesta.\n",
    "\n",
    "Ispostavilo se da je za takve fotografije daleko bolje koristiti CNN sa density mapom koji je fine-tuniran na - ovde konkretno - VisDrone2020-CC lite datasetu."
   ]
  },
  {
   "cell_type": "markdown",
   "id": "d0da8c78",
   "metadata": {},
   "source": [
    "## 1. HOG detektor\n",
    "\n",
    "HOG (Histogram of Oriented Gradients) detektuje ljude analizom raspodele ivica i gradijenta na slici. Posebno je efikasan za prepoznavanje pešaka na ulici i ljude čije je celo telo vidljivo.\n",
    "\n",
    "```bash\n",
    "cd ../src\n",
    "python hog_detector.py\n",
    "```\n",
    "\n",
    "Skript `hog_detector.py` koristi HOG za prebrojavanje ljudi na tri test slike koje se nalaze u `data/samples`. Rezultati se čuvaju u `data` folderu.\n",
    "\n",
    "* Na output-u [aerial_hog.jpg](../data/output/aerial_hog.jpg) HOG daje **neprecizan rezultat**, što pokazuje da nije pogodan za scene snimljene iz vazduha.\n",
    "* Na output-u [closeup_hog.jpg](../data/output/closeup_hog.jpg) HOG **ne daje nikakav rezultat**, što pokazuje da nije pogodan za neprecizan za lica izbliza.\n",
    "* Na output-u [pedestrians_hog.jpg](../data/output/pedestrians_hog.jpg) HOG daje **dobar rezultat kada je celo telo vidljivo**."
   ]
  },
  {
   "cell_type": "markdown",
   "id": "4f3b8146",
   "metadata": {},
   "source": [
    "## 2. Haar detektor\n",
    "\n",
    "Haar Cascade detektor koristi kaskadu jednostavnih vizuelnih karakteristika kako bi brzo odredio da li deo slike sadrži osobu. Posebno je pogodan za **close-up lica** i gornji deo tela.\n",
    "\n",
    "```bash\n",
    "cd ../src\n",
    "python haar_detector.py\n",
    "```\n",
    "\n",
    "Skript `haar_detector.py` primenjuje Haar detekciju na iste tri test slike iz `data/samples`. Rezultati se čuvaju u `data` folderu.\n",
    "\n",
    "* Za sliku [aerial_haar.jpg](../data/output/aerial_haar.jpg) Haar detektor je **neprecizan i detektuje neke pogrešne objekte**, što pokazuje da nije idealan za snimke iz vazduha.\n",
    "* Za sliku [closeup_haar.jpg](../data/output/closeup_haar.jpg) Haar detektor daje **relativno precizan rezultat za lica izbliza**.\n",
    "* Za sliku [pedestrians_haar.jpg](../data/output/pedestrians_haar.jpg) detektor je **dobar, ali HOG je precizniji za ljude sa celim telom**."
   ]
  },
  {
   "cell_type": "markdown",
   "id": "a959d3fc",
   "metadata": {},
   "source": [
    "# CNN Counter (CSRNet)\n",
    "\n",
    "**CSRNet CNN** model se u ovom projektu koristi za najpreciznije brojanje ljudi na fotografijama slikanim dronom iznad ljudi.\n",
    "Model predviđa **density mapu** gde je suma svih vrednosti u mapi predviđeni broj ljudi na slici.\n",
    "\n",
    "## Dataset: `DroneCrowdDataset`\n",
    "- Čita sekvence iz VisDrone dataset-a.\n",
    "- Svaka sekvenca ima slike i anotacije (x, y koordinate ljudi).\n",
    "- Opcionalno se slike dele na tile-ove (`tile_size=(512,512)`).\n",
    "- Svaka tile slika se pretvara u tensor i normalizuje.\n",
    "- Density mapa se kreira tako što se svaka anotacija konvertuje u Gaussian kernel.\n",
    "\n",
    "## Model: `CSRNet`\n",
    "\n",
    "* Frontend: VGG16 do 30. layer-a (convolutional features)\n",
    "* Backend: više konvolucionih slojeva sa dilatacijom da bi se sačuvala rezolucija\n",
    "* Output: 1-channel density mapa iste veličine kao tile\n",
    "\n",
    "## Trening\n",
    "\n",
    "* Optimizator: `AdamW`\n",
    "* Loss: `MSELoss` između predviđene i ground-truth density mape\n",
    "* Grad scaler za **mixed precision** ako je GPU\n",
    "* Batch size tipično 8-16 tile-ova\n",
    "* Epochs: početno 1 za test, kasnije 20 za pravi trening\n",
    "\n",
    "## Predikcija i vizualizacija\n",
    "\n",
    "* Model se primenjuje po tile-ovima, density tile se vraća u originalnu veličinu.\n",
    "* Ukupan broj ljudi se računa kao suma svih vrednosti density mape.\n",
    "\n",
    "## Napomene\n",
    "\n",
    "* `test_list.txt` se trenutno ne koristi u treningu, služi samo za eventualno evaluaciju.\n",
    "* Model je unapred treniran sa VGG16 weights za bolju inicijalizaciju."
   ]
  },
  {
   "cell_type": "markdown",
   "id": "90060ea9",
   "metadata": {},
   "source": [
    "\n",
    "## Zaključak\n",
    "\n",
    "- HOG i Haar su korisni za specifične scenarije, ali nisu dovoljno precizni za proteste.  \n",
    "- CNN sa density mapama je najprecizniji za sve scenarije i može se fine-tunovati na VisDrone dataset-u.\n"
   ]
  }
 ],
 "metadata": {},
 "nbformat": 4,
 "nbformat_minor": 5
}
